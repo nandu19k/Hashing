{
  "nbformat": 4,
  "nbformat_minor": 0,
  "metadata": {
    "colab": {
      "name": " Contains Duplicate.ipynb",
      "provenance": []
    },
    "kernelspec": {
      "name": "python3",
      "display_name": "Python 3"
    }
  },
  "cells": [
    {
      "cell_type": "markdown",
      "metadata": {
        "id": "bfOjT27RzOW0"
      },
      "source": [
        "Problem Link: https://leetcode.com/problems/contains-duplicate/"
      ]
    },
    {
      "cell_type": "code",
      "metadata": {
        "id": "bUp9VscezUya"
      },
      "source": [
        "from collections import defaultdict"
      ],
      "execution_count": 1,
      "outputs": []
    },
    {
      "cell_type": "code",
      "metadata": {
        "id": "1Nq4G5cp00M5"
      },
      "source": [
        "def containsduplicate(lst):\n",
        "  m = defaultdict(int)\n",
        "  for num in lst:\n",
        "    if m[num]:\n",
        "      return True\n",
        "    m[num] +=1\n",
        "  return False"
      ],
      "execution_count": 2,
      "outputs": []
    },
    {
      "cell_type": "code",
      "metadata": {
        "id": "NLfmFfjM1fmG"
      },
      "source": [
        "lst = [1,2,3,5,4,6,8,9,9]\n"
      ],
      "execution_count": 3,
      "outputs": []
    },
    {
      "cell_type": "code",
      "metadata": {
        "id": "YB_M5LTh1qhY",
        "outputId": "e3cf6500-b5f0-4544-f3d4-136123c65329",
        "colab": {
          "base_uri": "https://localhost:8080/"
        }
      },
      "source": [
        "containsduplicate(lst)"
      ],
      "execution_count": 4,
      "outputs": [
        {
          "output_type": "execute_result",
          "data": {
            "text/plain": [
              "True"
            ]
          },
          "metadata": {
            "tags": []
          },
          "execution_count": 4
        }
      ]
    }
  ]
}