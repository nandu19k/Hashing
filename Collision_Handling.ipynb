{
  "nbformat": 4,
  "nbformat_minor": 0,
  "metadata": {
    "colab": {
      "name": "Collision Handling.ipynb",
      "provenance": []
    },
    "kernelspec": {
      "name": "python3",
      "display_name": "Python 3"
    }
  },
  "cells": [
    {
      "cell_type": "markdown",
      "metadata": {
        "id": "XZYuDl3iMsEd"
      },
      "source": [
        "#Creating a Hash Table"
      ]
    },
    {
      "cell_type": "code",
      "metadata": {
        "id": "tfb29ANaNAp5"
      },
      "source": [
        "class HashTable:\n",
        "  def __init__(self):\n",
        "    self.MAX = 100\n",
        "    self.arr = [None for i in range(self.MAX)]\n",
        "  \n",
        "  def get_hash(self , key):\n",
        "    hash = 0\n",
        "    for char in key:\n",
        "      hash +=ord(char)\n",
        "      return hash % self.MAX\n",
        "  \n",
        "  def __setitem__(self , key , value):\n",
        "    h = self.get_hash(key)\n",
        "    self.arr[h] = value\n",
        "\n",
        "  def __getitem__(self , index):\n",
        "    h = self.get_hash(index)\n",
        "    return self.arr[h]"
      ],
      "execution_count": 1,
      "outputs": []
    },
    {
      "cell_type": "code",
      "metadata": {
        "id": "oZu74B8CMI_j"
      },
      "source": [
        "t = HashTable()"
      ],
      "execution_count": 2,
      "outputs": []
    },
    {
      "cell_type": "code",
      "metadata": {
        "id": "fmLjPGMaMLfR",
        "outputId": "b93ed6fe-7092-4029-e076-015f429b50ab",
        "colab": {
          "base_uri": "https://localhost:8080/"
        }
      },
      "source": [
        "t.get_hash('nandu')"
      ],
      "execution_count": 3,
      "outputs": [
        {
          "output_type": "execute_result",
          "data": {
            "text/plain": [
              "10"
            ]
          },
          "metadata": {
            "tags": []
          },
          "execution_count": 3
        }
      ]
    },
    {
      "cell_type": "code",
      "metadata": {
        "id": "Uaoz-mkvMVBc"
      },
      "source": [
        "t['nandu'] = 1\n",
        "t['venky'] = 2\n",
        "t['jaswanth'] = 3\n",
        "t['nikhila'] = 4"
      ],
      "execution_count": 4,
      "outputs": []
    },
    {
      "cell_type": "code",
      "metadata": {
        "id": "SVLSgErkMefX"
      },
      "source": [
        "t['nandu'] = 4"
      ],
      "execution_count": 5,
      "outputs": []
    },
    {
      "cell_type": "code",
      "metadata": {
        "id": "GGXpw4eyM0tn",
        "outputId": "5be7cebf-77d1-467a-98e7-37050fbe66ea",
        "colab": {
          "base_uri": "https://localhost:8080/"
        }
      },
      "source": [
        "t['nandu']"
      ],
      "execution_count": 6,
      "outputs": [
        {
          "output_type": "execute_result",
          "data": {
            "text/plain": [
              "4"
            ]
          },
          "metadata": {
            "tags": []
          },
          "execution_count": 6
        }
      ]
    },
    {
      "cell_type": "markdown",
      "metadata": {
        "id": "IXUt5sT3M4RY"
      },
      "source": [
        "#Collision Handling Using Chaining"
      ]
    },
    {
      "cell_type": "code",
      "metadata": {
        "id": "38-HsP5HM7pM"
      },
      "source": [
        "class HashTable:\n",
        "  def __init__(self):\n",
        "    self.MAX = 100\n",
        "    self.arr = [[] for i in range(self.MAX)]\n",
        "\n",
        "  def get_hash(self , key):\n",
        "    hashed = 0\n",
        "    for char in key:\n",
        "      hashed += ord(char)\n",
        "    return hashed % self.MAX\n",
        "\n",
        "  def __setitem__(self , key , value):\n",
        "    found = False\n",
        "    h = self.get_hash(key)\n",
        "    for idx , element in enumerate(self.arr[h]):\n",
        "      if len(element) ==2 and element[0] ==key:\n",
        "        self.arr[h][idx] = value\n",
        "        found = True\n",
        "    if not found:\n",
        "      self.arr[h].append((key , value))\n",
        "\n",
        "  def __getitem__(self , key):\n",
        "    h = self.get_hash(key)\n",
        "    for kv in self.arr[h]:\n",
        "      if kv[0]==key:\n",
        "        return kv[1]\n",
        "\n",
        "  def __delitem__(self , key):\n",
        "    arr_index = self.get_hash(key)\n",
        "    for index , kv in enumerate(self.arr[arr_index]):\n",
        "      if kv[0]==key:\n",
        "        print(\"del\" , index)\n",
        "        del self.arr[arr_index][index]\n"
      ],
      "execution_count": 7,
      "outputs": []
    }
  ]
}