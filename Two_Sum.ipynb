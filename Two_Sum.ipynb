{
  "nbformat": 4,
  "nbformat_minor": 0,
  "metadata": {
    "colab": {
      "name": "Two Sum.ipynb",
      "provenance": []
    },
    "kernelspec": {
      "name": "python3",
      "display_name": "Python 3"
    }
  },
  "cells": [
    {
      "cell_type": "markdown",
      "metadata": {
        "id": "dDNT-RdhxNh-"
      },
      "source": [
        "Problem Link: https://leetcode.com/problems/two-sum/solution/\n"
      ]
    },
    {
      "cell_type": "code",
      "metadata": {
        "id": "ozO9_fAcxTVv"
      },
      "source": [
        "def twoSum(nums , target):\n",
        "  n = len(nums)\n",
        "  h = {}\n",
        "  for i in range(0, n):\n",
        "    x = target - nums[i]\n",
        "    if x in h:\n",
        "      return (h[x] , i)\n",
        "    h[nums[i]] = i"
      ],
      "execution_count": 1,
      "outputs": []
    },
    {
      "cell_type": "code",
      "metadata": {
        "id": "HBXoHltJyaW0",
        "outputId": "4521f0f7-0399-4dd3-89c4-edb359911317",
        "colab": {
          "base_uri": "https://localhost:8080/"
        }
      },
      "source": [
        "lst = [1,2,6,5,7,9]\n",
        "twoSum(lst , 11)"
      ],
      "execution_count": 2,
      "outputs": [
        {
          "output_type": "execute_result",
          "data": {
            "text/plain": [
              "(2, 3)"
            ]
          },
          "metadata": {
            "tags": []
          },
          "execution_count": 2
        }
      ]
    }
  ]
}