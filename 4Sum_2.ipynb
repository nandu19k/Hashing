{
  "nbformat": 4,
  "nbformat_minor": 0,
  "metadata": {
    "colab": {
      "name": "4Sum 2.ipynb",
      "provenance": []
    },
    "kernelspec": {
      "name": "python3",
      "display_name": "Python 3"
    }
  },
  "cells": [
    {
      "cell_type": "markdown",
      "metadata": {
        "id": "kVLI8UWK-IDS"
      },
      "source": [
        "Problem Link: https://leetcode.com/problems/4sum-ii/"
      ]
    },
    {
      "cell_type": "code",
      "metadata": {
        "id": "Pfaqzqtm-FUJ"
      },
      "source": [
        "def Foursum2(A,B,C,D):\n",
        "  ans = 0\n",
        "  m = {}\n",
        "\n",
        "  for i in range(0 , len(A)):\n",
        "    x = A[i]\n",
        "    for j in range(0, len(B)):\n",
        "      y = B[j]\n",
        "      if (x+y) not in m:\n",
        "        m[x+y] = 0\n",
        "      m[x+y]+=1\n",
        "\n",
        "  for i in range(0 , len(C)):\n",
        "    x = C[i]\n",
        "    for j in range(0 , len(D)):\n",
        "      y = D[j]\n",
        "      target = -(x+y)\n",
        "      if target in m:\n",
        "        ans +=m[target]\n",
        "  \n",
        "  return ans"
      ],
      "execution_count": 1,
      "outputs": []
    },
    {
      "cell_type": "code",
      "metadata": {
        "id": "O8ynO0bLCM1H",
        "outputId": "010777a0-d3c0-4c4a-fa59-72ed50c126f1",
        "colab": {
          "base_uri": "https://localhost:8080/"
        }
      },
      "source": [
        "A = [ 1, 2]\n",
        "B = [-2,-1]\n",
        "C = [-1, 2]\n",
        "D = [ 0, 2]\n",
        "Foursum2(A,B,C,D)"
      ],
      "execution_count": 2,
      "outputs": [
        {
          "output_type": "execute_result",
          "data": {
            "text/plain": [
              "2"
            ]
          },
          "metadata": {
            "tags": []
          },
          "execution_count": 2
        }
      ]
    }
  ]
}