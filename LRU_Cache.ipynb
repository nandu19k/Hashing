{
  "nbformat": 4,
  "nbformat_minor": 0,
  "metadata": {
    "colab": {
      "name": "LRU Cache.ipynb",
      "provenance": []
    },
    "kernelspec": {
      "name": "python3",
      "display_name": "Python 3"
    }
  },
  "cells": [
    {
      "cell_type": "markdown",
      "metadata": {
        "id": "h_jRg1E2CZxd"
      },
      "source": [
        "Problem Link: https://leetcode.com/problems/lru-cache/\n"
      ]
    },
    {
      "cell_type": "code",
      "metadata": {
        "id": "qOqF2s-gCmkd"
      },
      "source": [
        "from collections import deque"
      ],
      "execution_count": 1,
      "outputs": []
    },
    {
      "cell_type": "code",
      "metadata": {
        "id": "RdE_nLSyKBfk"
      },
      "source": [
        "class LRUCache:\n",
        "  def __init__(self , capacity):\n",
        "    self.c = capacity\n",
        "    self.m = {}\n",
        "    self.deq = deque()\n",
        "\n",
        "  def get(self , key):\n",
        "    if key in self.m:\n",
        "      value = self.m[key]\n",
        "      self.deq.remove(key)\n",
        "      self.deq.append(key)\n",
        "      return value\n",
        "    else:\n",
        "      return -1\n",
        "\n",
        "  def put(self , key , value):\n",
        "    if key not in self.m:\n",
        "      if len(self.deq) == self.c:\n",
        "        oldest = self.deq.popleft()\n",
        "        del self.m[oldest]\n",
        "    else:\n",
        "      self.deq.remove(key)\n",
        "    self.m[key] = value\n",
        "    self.deq.append(key)"
      ],
      "execution_count": 2,
      "outputs": []
    },
    {
      "cell_type": "code",
      "metadata": {
        "id": "SiwWAW1LLbaI",
        "outputId": "55ddb9f6-482c-4316-9dc7-78b1767bd2b4",
        "colab": {
          "base_uri": "https://localhost:8080/"
        }
      },
      "source": [
        "lRUCache = LRUCache(2)\n",
        "lRUCache.put(1, 1)\n",
        "lRUCache.put(2, 2)\n",
        "print(lRUCache.get(1))\n",
        "lRUCache.put(3, 3)\n",
        "print(lRUCache.get(2))\n",
        "lRUCache.put(4, 4)\n",
        "print(lRUCache.get(1))\n",
        "print(lRUCache.get(3))\n",
        "lRUCache.get(4)"
      ],
      "execution_count": 3,
      "outputs": [
        {
          "output_type": "stream",
          "text": [
            "1\n",
            "-1\n",
            "-1\n",
            "3\n"
          ],
          "name": "stdout"
        },
        {
          "output_type": "execute_result",
          "data": {
            "text/plain": [
              "4"
            ]
          },
          "metadata": {
            "tags": []
          },
          "execution_count": 3
        }
      ]
    }
  ]
}