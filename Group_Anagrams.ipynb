{
  "nbformat": 4,
  "nbformat_minor": 0,
  "metadata": {
    "colab": {
      "name": "Group Anagrams.ipynb",
      "provenance": []
    },
    "kernelspec": {
      "name": "python3",
      "display_name": "Python 3"
    }
  },
  "cells": [
    {
      "cell_type": "markdown",
      "metadata": {
        "id": "ySZMFRdT6b1E"
      },
      "source": [
        "Problem Link: https://leetcode.com/problems/group-anagrams/"
      ]
    },
    {
      "cell_type": "code",
      "metadata": {
        "id": "le2tRALd8JjQ"
      },
      "source": [
        "def GroupAnagrams(strs):\n",
        "  answers = []\n",
        "  m = {}\n",
        "\n",
        "  for string in strs:\n",
        "    hashed = ''.join(sorted(string))\n",
        "    if hashed not in m:\n",
        "      m[hashed] = []\n",
        "    m[hashed].append(string)\n",
        "\n",
        "  for p in m.values():\n",
        "    answers.append(p)\n",
        "  \n",
        "  return answers"
      ],
      "execution_count": 1,
      "outputs": []
    },
    {
      "cell_type": "code",
      "metadata": {
        "id": "06z09CBu84w-",
        "outputId": "3a69776f-c863-4009-964c-287a401a5416",
        "colab": {
          "base_uri": "https://localhost:8080/"
        }
      },
      "source": [
        "strs = [\"eat\",\"tea\",\"tan\",\"ate\",\"nat\",\"bat\"]\n",
        "GroupAnagrams(strs)"
      ],
      "execution_count": 2,
      "outputs": [
        {
          "output_type": "execute_result",
          "data": {
            "text/plain": [
              "[['eat', 'tea', 'ate'], ['tan', 'nat'], ['bat']]"
            ]
          },
          "metadata": {
            "tags": []
          },
          "execution_count": 2
        }
      ]
    },
    {
      "cell_type": "code",
      "metadata": {
        "id": "slPdirIr9PoH",
        "outputId": "f8bb0c6d-a4d1-4233-9f3b-f1e70d663437",
        "colab": {
          "base_uri": "https://localhost:8080/"
        }
      },
      "source": [
        "strs = [\"\"]\n",
        "GroupAnagrams(strs)"
      ],
      "execution_count": 3,
      "outputs": [
        {
          "output_type": "execute_result",
          "data": {
            "text/plain": [
              "[['']]"
            ]
          },
          "metadata": {
            "tags": []
          },
          "execution_count": 3
        }
      ]
    }
  ]
}