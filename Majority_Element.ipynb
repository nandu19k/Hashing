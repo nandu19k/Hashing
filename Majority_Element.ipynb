{
  "nbformat": 4,
  "nbformat_minor": 0,
  "metadata": {
    "colab": {
      "name": "Majority Element.ipynb",
      "provenance": []
    },
    "kernelspec": {
      "name": "python3",
      "display_name": "Python 3"
    }
  },
  "cells": [
    {
      "cell_type": "markdown",
      "metadata": {
        "id": "u4lWk8_r24ks"
      },
      "source": [
        "Problem Link: https://leetcode.com/problems/majority-element/"
      ]
    },
    {
      "cell_type": "code",
      "metadata": {
        "id": "r6U5sHGh29z_"
      },
      "source": [
        "from collections import defaultdict"
      ],
      "execution_count": 1,
      "outputs": []
    },
    {
      "cell_type": "code",
      "metadata": {
        "id": "L_nWpLaI3W8x"
      },
      "source": [
        "def majorityElement(lst):\n",
        "  m = defaultdict(int)\n",
        "  for num in lst:\n",
        "    m[num] +=1\n",
        "    if m[num] > len(lst)//2:\n",
        "      print(m)\n",
        "      return num\n",
        "\n"
      ],
      "execution_count": 2,
      "outputs": []
    },
    {
      "cell_type": "code",
      "metadata": {
        "id": "df2lhpx630po",
        "outputId": "dd653762-3199-4740-f0d2-ad098a7d434a",
        "colab": {
          "base_uri": "https://localhost:8080/"
        }
      },
      "source": [
        "lst = [3,1,3]\n",
        "majorityElement(lst)"
      ],
      "execution_count": 3,
      "outputs": [
        {
          "output_type": "stream",
          "text": [
            "defaultdict(<class 'int'>, {3: 2, 1: 1})\n"
          ],
          "name": "stdout"
        },
        {
          "output_type": "execute_result",
          "data": {
            "text/plain": [
              "3"
            ]
          },
          "metadata": {
            "tags": []
          },
          "execution_count": 3
        }
      ]
    },
    {
      "cell_type": "code",
      "metadata": {
        "id": "kOw44ok3391y",
        "outputId": "96139860-9725-4b43-dbbc-6c5a09e737c1",
        "colab": {
          "base_uri": "https://localhost:8080/"
        }
      },
      "source": [
        "k = [2,2,1,1,1,2,2]\n",
        "majorityElement(k)"
      ],
      "execution_count": 4,
      "outputs": [
        {
          "output_type": "stream",
          "text": [
            "defaultdict(<class 'int'>, {2: 4, 1: 3})\n"
          ],
          "name": "stdout"
        },
        {
          "output_type": "execute_result",
          "data": {
            "text/plain": [
              "2"
            ]
          },
          "metadata": {
            "tags": []
          },
          "execution_count": 4
        }
      ]
    }
  ]
}